{
 "cells": [
  {
   "cell_type": "code",
   "execution_count": 36,
   "metadata": {},
   "outputs": [
    {
     "name": "stdout",
     "output_type": "stream",
     "text": [
      "[ 0.00000000e+00  4.69303395e+00  9.27050983e+00  1.36197150e+01\n",
      "  1.76335576e+01  2.12132034e+01  2.42705098e+01  2.67301957e+01\n",
      "  2.85316955e+01  2.96306502e+01  3.00000000e+01  2.96306502e+01\n",
      "  2.85316955e+01  2.67301957e+01  2.42705098e+01  2.12132034e+01\n",
      "  1.76335576e+01  1.36197150e+01  9.27050983e+00  4.69303395e+00\n",
      "  3.67394040e-15 -4.69303395e+00 -9.27050983e+00 -1.36197150e+01\n",
      " -1.76335576e+01 -2.12132034e+01 -2.42705098e+01 -2.67301957e+01\n",
      " -2.85316955e+01 -2.96306502e+01 -3.00000000e+01 -2.96306502e+01\n",
      " -2.85316955e+01 -2.67301957e+01 -2.42705098e+01 -2.12132034e+01\n",
      " -1.76335576e+01 -1.36197150e+01 -9.27050983e+00 -4.69303395e+00\n",
      " -7.34788079e-15]\n"
     ]
    },
    {
     "name": "stderr",
     "output_type": "stream",
     "text": [
      "C:\\Users\\Mynam\\Desktop\\fastplotlib\\fastplotlib\\graphics\\_features\\_base.py:34: UserWarning: converting float64 array to float32\n",
      "  warn(f\"converting {array.dtype} array to float32\")\n"
     ]
    },
    {
     "data": {
      "text/plain": [
       "<wgpu.gui.glfw.GlfwWgpuCanvas at 0x27ece411750>"
      ]
     },
     "execution_count": 36,
     "metadata": {},
     "output_type": "execute_result"
    }
   ],
   "source": [
    "import numpy as np\n",
    "import fastplotlib as fpl\n",
    "\n",
    "# grid with 2 rows and 3 columns\n",
    "grid_shape = (2,1)\n",
    "\n",
    "# pan-zoom controllers for each view\n",
    "# views are synced if they have the \n",
    "# same controller ID\n",
    "controllers = [\n",
    "    [0],\n",
    "    [1]\n",
    "]\n",
    "\n",
    "\n",
    "# you can give string names for each subplot within the gridplot\n",
    "names = [\n",
    "    [\"scalar_size\"],\n",
    "    [\"array_size\"]\n",
    "]\n",
    "\n",
    "# Create the grid plot\n",
    "grid_plot = fpl.GridPlot(\n",
    "    shape=grid_shape,\n",
    "    controllers=controllers,\n",
    "    names=names\n",
    ")\n",
    "\n",
    "# get y_values using sin function\n",
    "y_values = 30*np.sin(np.arange(0, 20*np.pi+0.001, np.pi / 20)) # 1 thousand points\n",
    "print(y_values)\n",
    "data = np.array([[x, y] for x, y in enumerate(y_values)], dtype=np.float32)\n",
    "\n",
    "grid_plot[\"scalar_size\"].add_scatter(data=data, sizes=5, colors=\"blue\") # add a set of scalar sizes\n",
    "\n",
    "non_scalar_sizes = np.abs((y_values / np.pi)) # ensure minimum size of 5\n",
    "grid_plot[\"array_size\"].add_scatter(data=data, sizes=non_scalar_sizes, colors=\"red\")\n",
    "\n",
    "for graph in grid_plot:\n",
    "    graph.auto_scale(maintain_aspect=True)\n",
    "\n",
    "grid_plot.show()"
   ]
  },
  {
   "cell_type": "code",
   "execution_count": 20,
   "metadata": {},
   "outputs": [
    {
     "name": "stdout",
     "output_type": "stream",
     "text": [
      "(<weakproxy at 0x0000027E9ABA13F0 to ScatterGraphic at 0x0000027E97BACB50>,)\n",
      "(<weakproxy at 0x0000027E9ABD45E0 to ScatterGraphic at 0x0000027E9ABD0550>,)\n"
     ]
    }
   ],
   "source": [
    "for sub in  grid_plot:\n",
    "    print(sub.graphics)"
   ]
  },
  {
   "cell_type": "code",
   "execution_count": null,
   "metadata": {},
   "outputs": [],
   "source": []
  }
 ],
 "metadata": {
  "kernelspec": {
   "display_name": "fastplotlib-dev",
   "language": "python",
   "name": "python3"
  },
  "language_info": {
   "codemirror_mode": {
    "name": "ipython",
    "version": 3
   },
   "file_extension": ".py",
   "mimetype": "text/x-python",
   "name": "python",
   "nbconvert_exporter": "python",
   "pygments_lexer": "ipython3",
   "version": "3.11.4"
  },
  "orig_nbformat": 4
 },
 "nbformat": 4,
 "nbformat_minor": 2
}
