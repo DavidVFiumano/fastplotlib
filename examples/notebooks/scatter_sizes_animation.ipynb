{
 "cells": [
  {
   "cell_type": "code",
   "execution_count": null,
   "metadata": {},
   "outputs": [],
   "source": [
    "from time import time\n",
    "\n",
    "import numpy as np\n",
    "import fastplotlib as fpl\n",
    "\n",
    "plot = fpl.Plot()\n",
    "\n",
    "points = np.array([[-1,0,1],[-1,0,1]], dtype=np.float32).swapaxes(0,1)\n",
    "size_delta_scales = np.array([10, 40, 100], dtype=np.float32)\n",
    "min_sizes = 6\n",
    "\n",
    "def update_positions():\n",
    "    current_time = time()\n",
    "    newPositions = points + np.sin(((current_time / 4) % 1)*np.pi)\n",
    "    plot.graphics[0].data = newPositions\n",
    "    plot.camera.width = 4*np.max(newPositions[0,:])\n",
    "    plot.camera.height = 4*np.max(newPositions[1,:])\n",
    "\n",
    "def update_sizes():\n",
    "    current_time = time()\n",
    "    sin_sample = np.sin(((current_time / 4) % 1)*np.pi)\n",
    "    size_delta = sin_sample*size_delta_scales\n",
    "    plot.graphics[0].sizes = min_sizes + size_delta\n",
    "\n",
    "points = np.array([[0,0], \n",
    "                   [1,1], \n",
    "                   [2,2]])\n",
    "scatter = plot.add_scatter(points, colors=[\"red\", \"green\", \"blue\"], sizes=12)\n",
    "plot.add_animations(update_positions, update_sizes)\n",
    "plot.show(autoscale=True)"
   ]
  },
  {
   "cell_type": "code",
   "execution_count": null,
   "metadata": {},
   "outputs": [],
   "source": []
  }
 ],
 "metadata": {
  "kernelspec": {
   "display_name": "fastplotlib-dev",
   "language": "python",
   "name": "python3"
  },
  "language_info": {
   "codemirror_mode": {
    "name": "ipython",
    "version": 3
   },
   "file_extension": ".py",
   "mimetype": "text/x-python",
   "name": "python",
   "nbconvert_exporter": "python",
   "pygments_lexer": "ipython3",
   "version": "3.11.4"
  },
  "orig_nbformat": 4
 },
 "nbformat": 4,
 "nbformat_minor": 2
}
